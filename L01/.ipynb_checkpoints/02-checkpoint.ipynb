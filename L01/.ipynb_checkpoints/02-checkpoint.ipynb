{
 "cells": [
  {
   "cell_type": "markdown",
   "id": "9b58f9c9-96dd-417f-aed7-b219e748028a",
   "metadata": {},
   "source": [
    "Let \n",
    "$\n",
    "\\rho := \\text{density}\n",
    "$, \n",
    "\n",
    "Then,\n",
    "$\n",
    "\\text{mass} = \\rho * \\text{volume}\n",
    "$,\n",
    "\n",
    "$\n",
    "\\implies dM_r (r) = \\rho(r) \\cdot 4 \\pi r^2 dr\n",
    "$\n"
   ]
  },
  {
   "cell_type": "markdown",
   "id": "69431535-4537-4ea1-adc7-dbc332641f58",
   "metadata": {},
   "source": [
    "$ \\dfrac{M_r(r)}{M_*} = \\bigg(\\dfrac{r}{R_*}\\bigg)^3 $"
   ]
  }
 ],
 "metadata": {
  "kernelspec": {
   "display_name": "Python 3 (ipykernel)",
   "language": "python",
   "name": "python3"
  },
  "language_info": {
   "codemirror_mode": {
    "name": "ipython",
    "version": 3
   },
   "file_extension": ".py",
   "mimetype": "text/x-python",
   "name": "python",
   "nbconvert_exporter": "python",
   "pygments_lexer": "ipython3",
   "version": "3.12.4"
  }
 },
 "nbformat": 4,
 "nbformat_minor": 5
}
